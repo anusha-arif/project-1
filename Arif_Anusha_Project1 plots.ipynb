{
 "cells": [
  {
   "cell_type": "markdown",
   "metadata": {},
   "source": [
    "# The Relationship between SAT Scores and Ethnicity - A NYC Study"
   ]
  },
  {
   "cell_type": "markdown",
   "metadata": {},
   "source": [
    "SAT scores are predominantly used in US to a judge a student's math, reading and writing skills. Universities use these scores to judge whether the students that applied to their university will be a good fit. The higher the SAT score, the better chance a student has to enter a top notch university. \n",
    "\n",
    "The following study uses data about average SAT scores for NYC public school from NYC open data. This data was gathered for the 2014-2015 school year. The data set includes information about school name, zipcode level characteristics, average SAT scores for math, reading and writing, as well as percentage of different ethnicities in the school and the percentage of students taking SAT in that school. The important variables for this study are average SAT scores in math, reading and writing for each school. As well as the percentage of different ethnicities; namely, White, Black, Hispanic and Asian in the school.\n",
    "\n",
    "The aim of this study is to analyze the relation between a different ethnicities and the average Math SAT scores, Reading and Writing SAT scores of NYC public schools through key summary statistics and graphs of the important vairbales. \n",
    "\n",
    "For the purpose of this report, all NaN values have been removed as they had missing information on the important variables.The total number of observations decreased from 435 to 374. The value of 0 is not treated as NaN because 0 signifies that a certain school had 0% a certain ethnicity. The data has been thoroughly cleaned to remove any '%' signs for the purpose of analysis."
   ]
  },
  {
   "cell_type": "code",
   "execution_count": 1,
   "metadata": {},
   "outputs": [],
   "source": [
    "import random\n",
    "import pandas as pd\n",
    "import numpy as np\n",
    "import os\n",
    "import matplotlib.pyplot as plt\n",
    "from IPython.display import display"
   ]
  },
  {
   "cell_type": "code",
   "execution_count": 2,
   "metadata": {},
   "outputs": [
    {
     "name": "stdout",
     "output_type": "stream",
     "text": [
      "<class 'pandas.core.frame.DataFrame'>\n",
      "RangeIndex: 435 entries, 0 to 434\n",
      "Data columns (total 22 columns):\n",
      " #   Column                       Non-Null Count  Dtype  \n",
      "---  ------                       --------------  -----  \n",
      " 0   School ID                    435 non-null    object \n",
      " 1   School Name                  435 non-null    object \n",
      " 2   Borough                      435 non-null    object \n",
      " 3   Building Code                435 non-null    object \n",
      " 4   Street Address               435 non-null    object \n",
      " 5   City                         435 non-null    object \n",
      " 6   State                        435 non-null    object \n",
      " 7   Zip Code                     435 non-null    int64  \n",
      " 8   Latitude                     435 non-null    float64\n",
      " 9   Longitude                    435 non-null    float64\n",
      " 10  Phone Number                 435 non-null    object \n",
      " 11  Start Time                   431 non-null    object \n",
      " 12  End Time                     431 non-null    object \n",
      " 13  Student Enrollment           428 non-null    float64\n",
      " 14  Percent White                428 non-null    object \n",
      " 15  Percent Black                428 non-null    object \n",
      " 16  Percent Hispanic             428 non-null    object \n",
      " 17  Percent Asian                428 non-null    object \n",
      " 18  Average Score (SAT Math)     375 non-null    float64\n",
      " 19  Average Score (SAT Reading)  375 non-null    float64\n",
      " 20  Average Score (SAT Writing)  375 non-null    float64\n",
      " 21  Percent Tested               386 non-null    object \n",
      "dtypes: float64(6), int64(1), object(15)\n",
      "memory usage: 49.3+ KB\n"
     ]
    }
   ],
   "source": [
    "nyc_hs = pd.read_csv(r\"C:\\Users\\anusha\\Desktop\\eco225\\scores.csv\")\n",
    "nyc_hs.info()"
   ]
  },
  {
   "cell_type": "code",
   "execution_count": 3,
   "metadata": {},
   "outputs": [
    {
     "data": {
      "text/html": [
       "<div>\n",
       "<style scoped>\n",
       "    .dataframe tbody tr th:only-of-type {\n",
       "        vertical-align: middle;\n",
       "    }\n",
       "\n",
       "    .dataframe tbody tr th {\n",
       "        vertical-align: top;\n",
       "    }\n",
       "\n",
       "    .dataframe thead th {\n",
       "        text-align: right;\n",
       "    }\n",
       "</style>\n",
       "<table border=\"1\" class=\"dataframe\">\n",
       "  <thead>\n",
       "    <tr style=\"text-align: right;\">\n",
       "      <th></th>\n",
       "      <th>School ID</th>\n",
       "      <th>School Name</th>\n",
       "      <th>Borough</th>\n",
       "      <th>Building Code</th>\n",
       "      <th>Street Address</th>\n",
       "      <th>City</th>\n",
       "      <th>State</th>\n",
       "      <th>Zip Code</th>\n",
       "      <th>Latitude</th>\n",
       "      <th>Longitude</th>\n",
       "      <th>...</th>\n",
       "      <th>End Time</th>\n",
       "      <th>Student Enrollment</th>\n",
       "      <th>Percent White</th>\n",
       "      <th>Percent Black</th>\n",
       "      <th>Percent Hispanic</th>\n",
       "      <th>Percent Asian</th>\n",
       "      <th>Average Score (SAT Math)</th>\n",
       "      <th>Average Score (SAT Reading)</th>\n",
       "      <th>Average Score (SAT Writing)</th>\n",
       "      <th>Percent Tested</th>\n",
       "    </tr>\n",
       "  </thead>\n",
       "  <tbody>\n",
       "    <tr>\n",
       "      <th>0</th>\n",
       "      <td>02M260</td>\n",
       "      <td>Clinton School Writers and Artists</td>\n",
       "      <td>Manhattan</td>\n",
       "      <td>M933</td>\n",
       "      <td>425 West 33rd Street</td>\n",
       "      <td>Manhattan</td>\n",
       "      <td>NY</td>\n",
       "      <td>10001</td>\n",
       "      <td>40.75321</td>\n",
       "      <td>-73.99786</td>\n",
       "      <td>...</td>\n",
       "      <td>NaN</td>\n",
       "      <td>NaN</td>\n",
       "      <td>NaN</td>\n",
       "      <td>NaN</td>\n",
       "      <td>NaN</td>\n",
       "      <td>NaN</td>\n",
       "      <td>NaN</td>\n",
       "      <td>NaN</td>\n",
       "      <td>NaN</td>\n",
       "      <td>NaN</td>\n",
       "    </tr>\n",
       "    <tr>\n",
       "      <th>1</th>\n",
       "      <td>06M211</td>\n",
       "      <td>Inwood Early College for Health and Informatio...</td>\n",
       "      <td>Manhattan</td>\n",
       "      <td>M052</td>\n",
       "      <td>650 Academy Street</td>\n",
       "      <td>Manhattan</td>\n",
       "      <td>NY</td>\n",
       "      <td>10002</td>\n",
       "      <td>40.86605</td>\n",
       "      <td>-73.92486</td>\n",
       "      <td>...</td>\n",
       "      <td>3:00 PM</td>\n",
       "      <td>87.0</td>\n",
       "      <td>3.4%</td>\n",
       "      <td>21.8%</td>\n",
       "      <td>67.8%</td>\n",
       "      <td>4.6%</td>\n",
       "      <td>NaN</td>\n",
       "      <td>NaN</td>\n",
       "      <td>NaN</td>\n",
       "      <td>NaN</td>\n",
       "    </tr>\n",
       "    <tr>\n",
       "      <th>2</th>\n",
       "      <td>01M539</td>\n",
       "      <td>New Explorations into Science, Technology and ...</td>\n",
       "      <td>Manhattan</td>\n",
       "      <td>M022</td>\n",
       "      <td>111 Columbia Street</td>\n",
       "      <td>Manhattan</td>\n",
       "      <td>NY</td>\n",
       "      <td>10002</td>\n",
       "      <td>40.71873</td>\n",
       "      <td>-73.97943</td>\n",
       "      <td>...</td>\n",
       "      <td>4:00 PM</td>\n",
       "      <td>1735.0</td>\n",
       "      <td>28.6%</td>\n",
       "      <td>13.3%</td>\n",
       "      <td>18.0%</td>\n",
       "      <td>38.5%</td>\n",
       "      <td>657.0</td>\n",
       "      <td>601.0</td>\n",
       "      <td>601.0</td>\n",
       "      <td>91.0%</td>\n",
       "    </tr>\n",
       "    <tr>\n",
       "      <th>3</th>\n",
       "      <td>02M294</td>\n",
       "      <td>Essex Street Academy</td>\n",
       "      <td>Manhattan</td>\n",
       "      <td>M445</td>\n",
       "      <td>350 Grand Street</td>\n",
       "      <td>Manhattan</td>\n",
       "      <td>NY</td>\n",
       "      <td>10002</td>\n",
       "      <td>40.71687</td>\n",
       "      <td>-73.98953</td>\n",
       "      <td>...</td>\n",
       "      <td>2:45 PM</td>\n",
       "      <td>358.0</td>\n",
       "      <td>11.7%</td>\n",
       "      <td>38.5%</td>\n",
       "      <td>41.3%</td>\n",
       "      <td>5.9%</td>\n",
       "      <td>395.0</td>\n",
       "      <td>411.0</td>\n",
       "      <td>387.0</td>\n",
       "      <td>78.9%</td>\n",
       "    </tr>\n",
       "    <tr>\n",
       "      <th>4</th>\n",
       "      <td>02M308</td>\n",
       "      <td>Lower Manhattan Arts Academy</td>\n",
       "      <td>Manhattan</td>\n",
       "      <td>M445</td>\n",
       "      <td>350 Grand Street</td>\n",
       "      <td>Manhattan</td>\n",
       "      <td>NY</td>\n",
       "      <td>10002</td>\n",
       "      <td>40.71687</td>\n",
       "      <td>-73.98953</td>\n",
       "      <td>...</td>\n",
       "      <td>3:00 PM</td>\n",
       "      <td>383.0</td>\n",
       "      <td>3.1%</td>\n",
       "      <td>28.2%</td>\n",
       "      <td>56.9%</td>\n",
       "      <td>8.6%</td>\n",
       "      <td>418.0</td>\n",
       "      <td>428.0</td>\n",
       "      <td>415.0</td>\n",
       "      <td>65.1%</td>\n",
       "    </tr>\n",
       "    <tr>\n",
       "      <th>...</th>\n",
       "      <td>...</td>\n",
       "      <td>...</td>\n",
       "      <td>...</td>\n",
       "      <td>...</td>\n",
       "      <td>...</td>\n",
       "      <td>...</td>\n",
       "      <td>...</td>\n",
       "      <td>...</td>\n",
       "      <td>...</td>\n",
       "      <td>...</td>\n",
       "      <td>...</td>\n",
       "      <td>...</td>\n",
       "      <td>...</td>\n",
       "      <td>...</td>\n",
       "      <td>...</td>\n",
       "      <td>...</td>\n",
       "      <td>...</td>\n",
       "      <td>...</td>\n",
       "      <td>...</td>\n",
       "      <td>...</td>\n",
       "      <td>...</td>\n",
       "    </tr>\n",
       "    <tr>\n",
       "      <th>430</th>\n",
       "      <td>27Q302</td>\n",
       "      <td>Queens High School for Information, Research, ...</td>\n",
       "      <td>Queens</td>\n",
       "      <td>Q465</td>\n",
       "      <td>8-21 Bay 25th Street</td>\n",
       "      <td>Far Rockaway</td>\n",
       "      <td>NY</td>\n",
       "      <td>11691</td>\n",
       "      <td>40.60199</td>\n",
       "      <td>-73.76283</td>\n",
       "      <td>...</td>\n",
       "      <td>4:10 PM</td>\n",
       "      <td>381.0</td>\n",
       "      <td>2.1%</td>\n",
       "      <td>49.1%</td>\n",
       "      <td>43.6%</td>\n",
       "      <td>4.2%</td>\n",
       "      <td>372.0</td>\n",
       "      <td>362.0</td>\n",
       "      <td>352.0</td>\n",
       "      <td>44.6%</td>\n",
       "    </tr>\n",
       "    <tr>\n",
       "      <th>431</th>\n",
       "      <td>27Q324</td>\n",
       "      <td>Rockaway Park High School for Environmental Su...</td>\n",
       "      <td>Queens</td>\n",
       "      <td>Q410</td>\n",
       "      <td>100-00 Beach Channel Drive</td>\n",
       "      <td>Rockaway Park</td>\n",
       "      <td>NY</td>\n",
       "      <td>11694</td>\n",
       "      <td>40.58601</td>\n",
       "      <td>-73.82309</td>\n",
       "      <td>...</td>\n",
       "      <td>3:30 PM</td>\n",
       "      <td>368.0</td>\n",
       "      <td>14.7%</td>\n",
       "      <td>46.7%</td>\n",
       "      <td>30.2%</td>\n",
       "      <td>3.5%</td>\n",
       "      <td>357.0</td>\n",
       "      <td>381.0</td>\n",
       "      <td>376.0</td>\n",
       "      <td>38.5%</td>\n",
       "    </tr>\n",
       "    <tr>\n",
       "      <th>432</th>\n",
       "      <td>27Q262</td>\n",
       "      <td>Channel View School for Research</td>\n",
       "      <td>Queens</td>\n",
       "      <td>Q410</td>\n",
       "      <td>100-00 Beach Channel Drive</td>\n",
       "      <td>Rockaway Park</td>\n",
       "      <td>NY</td>\n",
       "      <td>11694</td>\n",
       "      <td>40.58601</td>\n",
       "      <td>-73.82309</td>\n",
       "      <td>...</td>\n",
       "      <td>3:04 PM</td>\n",
       "      <td>683.0</td>\n",
       "      <td>10.7%</td>\n",
       "      <td>53.2%</td>\n",
       "      <td>29.1%</td>\n",
       "      <td>6.0%</td>\n",
       "      <td>427.0</td>\n",
       "      <td>430.0</td>\n",
       "      <td>423.0</td>\n",
       "      <td>76.6%</td>\n",
       "    </tr>\n",
       "    <tr>\n",
       "      <th>433</th>\n",
       "      <td>27Q351</td>\n",
       "      <td>Rockaway Collegiate High School</td>\n",
       "      <td>Queens</td>\n",
       "      <td>Q410</td>\n",
       "      <td>100-00 Beach Channel Drive</td>\n",
       "      <td>Rockaway Park</td>\n",
       "      <td>NY</td>\n",
       "      <td>11694</td>\n",
       "      <td>40.58601</td>\n",
       "      <td>-73.82309</td>\n",
       "      <td>...</td>\n",
       "      <td>4:20 PM</td>\n",
       "      <td>397.0</td>\n",
       "      <td>3.8%</td>\n",
       "      <td>52.6%</td>\n",
       "      <td>33.5%</td>\n",
       "      <td>5.0%</td>\n",
       "      <td>399.0</td>\n",
       "      <td>403.0</td>\n",
       "      <td>405.0</td>\n",
       "      <td>46.5%</td>\n",
       "    </tr>\n",
       "    <tr>\n",
       "      <th>434</th>\n",
       "      <td>27Q323</td>\n",
       "      <td>Scholars' Academy</td>\n",
       "      <td>Queens</td>\n",
       "      <td>Q180</td>\n",
       "      <td>320 Beach 104th Street</td>\n",
       "      <td>Rockaway Park</td>\n",
       "      <td>NY</td>\n",
       "      <td>11694</td>\n",
       "      <td>40.58413</td>\n",
       "      <td>-73.82568</td>\n",
       "      <td>...</td>\n",
       "      <td>3:00 PM</td>\n",
       "      <td>1302.0</td>\n",
       "      <td>34.7%</td>\n",
       "      <td>22.7%</td>\n",
       "      <td>19.6%</td>\n",
       "      <td>21.4%</td>\n",
       "      <td>588.0</td>\n",
       "      <td>560.0</td>\n",
       "      <td>568.0</td>\n",
       "      <td>99.2%</td>\n",
       "    </tr>\n",
       "  </tbody>\n",
       "</table>\n",
       "<p>435 rows × 22 columns</p>\n",
       "</div>"
      ],
      "text/plain": [
       "    School ID                                        School Name    Borough  \\\n",
       "0      02M260                 Clinton School Writers and Artists  Manhattan   \n",
       "1      06M211  Inwood Early College for Health and Informatio...  Manhattan   \n",
       "2      01M539  New Explorations into Science, Technology and ...  Manhattan   \n",
       "3      02M294                               Essex Street Academy  Manhattan   \n",
       "4      02M308                       Lower Manhattan Arts Academy  Manhattan   \n",
       "..        ...                                                ...        ...   \n",
       "430    27Q302  Queens High School for Information, Research, ...     Queens   \n",
       "431    27Q324  Rockaway Park High School for Environmental Su...     Queens   \n",
       "432    27Q262                   Channel View School for Research     Queens   \n",
       "433    27Q351                    Rockaway Collegiate High School     Queens   \n",
       "434    27Q323                                  Scholars' Academy     Queens   \n",
       "\n",
       "    Building Code              Street Address           City State  Zip Code  \\\n",
       "0            M933        425 West 33rd Street      Manhattan    NY     10001   \n",
       "1            M052          650 Academy Street      Manhattan    NY     10002   \n",
       "2            M022         111 Columbia Street      Manhattan    NY     10002   \n",
       "3            M445            350 Grand Street      Manhattan    NY     10002   \n",
       "4            M445            350 Grand Street      Manhattan    NY     10002   \n",
       "..            ...                         ...            ...   ...       ...   \n",
       "430          Q465        8-21 Bay 25th Street   Far Rockaway    NY     11691   \n",
       "431          Q410  100-00 Beach Channel Drive  Rockaway Park    NY     11694   \n",
       "432          Q410  100-00 Beach Channel Drive  Rockaway Park    NY     11694   \n",
       "433          Q410  100-00 Beach Channel Drive  Rockaway Park    NY     11694   \n",
       "434          Q180      320 Beach 104th Street  Rockaway Park    NY     11694   \n",
       "\n",
       "     Latitude  Longitude  ... End Time Student Enrollment Percent White  \\\n",
       "0    40.75321  -73.99786  ...      NaN                NaN           NaN   \n",
       "1    40.86605  -73.92486  ...  3:00 PM               87.0          3.4%   \n",
       "2    40.71873  -73.97943  ...  4:00 PM             1735.0         28.6%   \n",
       "3    40.71687  -73.98953  ...  2:45 PM              358.0         11.7%   \n",
       "4    40.71687  -73.98953  ...  3:00 PM              383.0          3.1%   \n",
       "..        ...        ...  ...      ...                ...           ...   \n",
       "430  40.60199  -73.76283  ...  4:10 PM              381.0          2.1%   \n",
       "431  40.58601  -73.82309  ...  3:30 PM              368.0         14.7%   \n",
       "432  40.58601  -73.82309  ...  3:04 PM              683.0         10.7%   \n",
       "433  40.58601  -73.82309  ...  4:20 PM              397.0          3.8%   \n",
       "434  40.58413  -73.82568  ...  3:00 PM             1302.0         34.7%   \n",
       "\n",
       "     Percent Black Percent Hispanic Percent Asian Average Score (SAT Math)  \\\n",
       "0              NaN              NaN           NaN                      NaN   \n",
       "1            21.8%            67.8%          4.6%                      NaN   \n",
       "2            13.3%            18.0%         38.5%                    657.0   \n",
       "3            38.5%            41.3%          5.9%                    395.0   \n",
       "4            28.2%            56.9%          8.6%                    418.0   \n",
       "..             ...              ...           ...                      ...   \n",
       "430          49.1%            43.6%          4.2%                    372.0   \n",
       "431          46.7%            30.2%          3.5%                    357.0   \n",
       "432          53.2%            29.1%          6.0%                    427.0   \n",
       "433          52.6%            33.5%          5.0%                    399.0   \n",
       "434          22.7%            19.6%         21.4%                    588.0   \n",
       "\n",
       "    Average Score (SAT Reading)  Average Score (SAT Writing)  Percent Tested  \n",
       "0                           NaN                          NaN             NaN  \n",
       "1                           NaN                          NaN             NaN  \n",
       "2                         601.0                        601.0           91.0%  \n",
       "3                         411.0                        387.0           78.9%  \n",
       "4                         428.0                        415.0           65.1%  \n",
       "..                          ...                          ...             ...  \n",
       "430                       362.0                        352.0           44.6%  \n",
       "431                       381.0                        376.0           38.5%  \n",
       "432                       430.0                        423.0           76.6%  \n",
       "433                       403.0                        405.0           46.5%  \n",
       "434                       560.0                        568.0           99.2%  \n",
       "\n",
       "[435 rows x 22 columns]"
      ]
     },
     "execution_count": 3,
     "metadata": {},
     "output_type": "execute_result"
    }
   ],
   "source": [
    "pd.DataFrame(nyc_hs)"
   ]
  },
  {
   "cell_type": "code",
   "execution_count": 4,
   "metadata": {},
   "outputs": [
    {
     "data": {
      "text/html": [
       "<div>\n",
       "<style scoped>\n",
       "    .dataframe tbody tr th:only-of-type {\n",
       "        vertical-align: middle;\n",
       "    }\n",
       "\n",
       "    .dataframe tbody tr th {\n",
       "        vertical-align: top;\n",
       "    }\n",
       "\n",
       "    .dataframe thead th {\n",
       "        text-align: right;\n",
       "    }\n",
       "</style>\n",
       "<table border=\"1\" class=\"dataframe\">\n",
       "  <thead>\n",
       "    <tr style=\"text-align: right;\">\n",
       "      <th></th>\n",
       "      <th>School ID</th>\n",
       "      <th>School Name</th>\n",
       "      <th>Borough</th>\n",
       "      <th>Building Code</th>\n",
       "      <th>Street Address</th>\n",
       "      <th>City</th>\n",
       "      <th>State</th>\n",
       "      <th>Zip Code</th>\n",
       "      <th>Latitude</th>\n",
       "      <th>Longitude</th>\n",
       "      <th>...</th>\n",
       "      <th>End Time</th>\n",
       "      <th>Student Enrollment</th>\n",
       "      <th>Percent White</th>\n",
       "      <th>Percent Black</th>\n",
       "      <th>Percent Hispanic</th>\n",
       "      <th>Percent Asian</th>\n",
       "      <th>Average Score (SAT Math)</th>\n",
       "      <th>Average Score (SAT Reading)</th>\n",
       "      <th>Average Score (SAT Writing)</th>\n",
       "      <th>Percent Tested</th>\n",
       "    </tr>\n",
       "  </thead>\n",
       "  <tbody>\n",
       "    <tr>\n",
       "      <th>2</th>\n",
       "      <td>01M539</td>\n",
       "      <td>New Explorations into Science, Technology and ...</td>\n",
       "      <td>Manhattan</td>\n",
       "      <td>M022</td>\n",
       "      <td>111 Columbia Street</td>\n",
       "      <td>Manhattan</td>\n",
       "      <td>NY</td>\n",
       "      <td>10002</td>\n",
       "      <td>40.71873</td>\n",
       "      <td>-73.97943</td>\n",
       "      <td>...</td>\n",
       "      <td>4:00 PM</td>\n",
       "      <td>1735.0</td>\n",
       "      <td>28.6%</td>\n",
       "      <td>13.3%</td>\n",
       "      <td>18.0%</td>\n",
       "      <td>38.5%</td>\n",
       "      <td>657.0</td>\n",
       "      <td>601.0</td>\n",
       "      <td>601.0</td>\n",
       "      <td>91.0%</td>\n",
       "    </tr>\n",
       "    <tr>\n",
       "      <th>3</th>\n",
       "      <td>02M294</td>\n",
       "      <td>Essex Street Academy</td>\n",
       "      <td>Manhattan</td>\n",
       "      <td>M445</td>\n",
       "      <td>350 Grand Street</td>\n",
       "      <td>Manhattan</td>\n",
       "      <td>NY</td>\n",
       "      <td>10002</td>\n",
       "      <td>40.71687</td>\n",
       "      <td>-73.98953</td>\n",
       "      <td>...</td>\n",
       "      <td>2:45 PM</td>\n",
       "      <td>358.0</td>\n",
       "      <td>11.7%</td>\n",
       "      <td>38.5%</td>\n",
       "      <td>41.3%</td>\n",
       "      <td>5.9%</td>\n",
       "      <td>395.0</td>\n",
       "      <td>411.0</td>\n",
       "      <td>387.0</td>\n",
       "      <td>78.9%</td>\n",
       "    </tr>\n",
       "    <tr>\n",
       "      <th>4</th>\n",
       "      <td>02M308</td>\n",
       "      <td>Lower Manhattan Arts Academy</td>\n",
       "      <td>Manhattan</td>\n",
       "      <td>M445</td>\n",
       "      <td>350 Grand Street</td>\n",
       "      <td>Manhattan</td>\n",
       "      <td>NY</td>\n",
       "      <td>10002</td>\n",
       "      <td>40.71687</td>\n",
       "      <td>-73.98953</td>\n",
       "      <td>...</td>\n",
       "      <td>3:00 PM</td>\n",
       "      <td>383.0</td>\n",
       "      <td>3.1%</td>\n",
       "      <td>28.2%</td>\n",
       "      <td>56.9%</td>\n",
       "      <td>8.6%</td>\n",
       "      <td>418.0</td>\n",
       "      <td>428.0</td>\n",
       "      <td>415.0</td>\n",
       "      <td>65.1%</td>\n",
       "    </tr>\n",
       "    <tr>\n",
       "      <th>5</th>\n",
       "      <td>02M545</td>\n",
       "      <td>High School for Dual Language and Asian Studies</td>\n",
       "      <td>Manhattan</td>\n",
       "      <td>M445</td>\n",
       "      <td>350 Grand Street</td>\n",
       "      <td>Manhattan</td>\n",
       "      <td>NY</td>\n",
       "      <td>10002</td>\n",
       "      <td>40.71687</td>\n",
       "      <td>-73.98953</td>\n",
       "      <td>...</td>\n",
       "      <td>3:35 PM</td>\n",
       "      <td>416.0</td>\n",
       "      <td>1.7%</td>\n",
       "      <td>3.1%</td>\n",
       "      <td>5.5%</td>\n",
       "      <td>88.9%</td>\n",
       "      <td>613.0</td>\n",
       "      <td>453.0</td>\n",
       "      <td>463.0</td>\n",
       "      <td>95.9%</td>\n",
       "    </tr>\n",
       "    <tr>\n",
       "      <th>6</th>\n",
       "      <td>01M292</td>\n",
       "      <td>Henry Street School for International Studies</td>\n",
       "      <td>Manhattan</td>\n",
       "      <td>M056</td>\n",
       "      <td>220 Henry Street</td>\n",
       "      <td>Manhattan</td>\n",
       "      <td>NY</td>\n",
       "      <td>10002</td>\n",
       "      <td>40.71376</td>\n",
       "      <td>-73.98526</td>\n",
       "      <td>...</td>\n",
       "      <td>3:30 PM</td>\n",
       "      <td>255.0</td>\n",
       "      <td>3.9%</td>\n",
       "      <td>24.4%</td>\n",
       "      <td>56.6%</td>\n",
       "      <td>13.2%</td>\n",
       "      <td>410.0</td>\n",
       "      <td>406.0</td>\n",
       "      <td>381.0</td>\n",
       "      <td>59.7%</td>\n",
       "    </tr>\n",
       "    <tr>\n",
       "      <th>...</th>\n",
       "      <td>...</td>\n",
       "      <td>...</td>\n",
       "      <td>...</td>\n",
       "      <td>...</td>\n",
       "      <td>...</td>\n",
       "      <td>...</td>\n",
       "      <td>...</td>\n",
       "      <td>...</td>\n",
       "      <td>...</td>\n",
       "      <td>...</td>\n",
       "      <td>...</td>\n",
       "      <td>...</td>\n",
       "      <td>...</td>\n",
       "      <td>...</td>\n",
       "      <td>...</td>\n",
       "      <td>...</td>\n",
       "      <td>...</td>\n",
       "      <td>...</td>\n",
       "      <td>...</td>\n",
       "      <td>...</td>\n",
       "      <td>...</td>\n",
       "    </tr>\n",
       "    <tr>\n",
       "      <th>430</th>\n",
       "      <td>27Q302</td>\n",
       "      <td>Queens High School for Information, Research, ...</td>\n",
       "      <td>Queens</td>\n",
       "      <td>Q465</td>\n",
       "      <td>8-21 Bay 25th Street</td>\n",
       "      <td>Far Rockaway</td>\n",
       "      <td>NY</td>\n",
       "      <td>11691</td>\n",
       "      <td>40.60199</td>\n",
       "      <td>-73.76283</td>\n",
       "      <td>...</td>\n",
       "      <td>4:10 PM</td>\n",
       "      <td>381.0</td>\n",
       "      <td>2.1%</td>\n",
       "      <td>49.1%</td>\n",
       "      <td>43.6%</td>\n",
       "      <td>4.2%</td>\n",
       "      <td>372.0</td>\n",
       "      <td>362.0</td>\n",
       "      <td>352.0</td>\n",
       "      <td>44.6%</td>\n",
       "    </tr>\n",
       "    <tr>\n",
       "      <th>431</th>\n",
       "      <td>27Q324</td>\n",
       "      <td>Rockaway Park High School for Environmental Su...</td>\n",
       "      <td>Queens</td>\n",
       "      <td>Q410</td>\n",
       "      <td>100-00 Beach Channel Drive</td>\n",
       "      <td>Rockaway Park</td>\n",
       "      <td>NY</td>\n",
       "      <td>11694</td>\n",
       "      <td>40.58601</td>\n",
       "      <td>-73.82309</td>\n",
       "      <td>...</td>\n",
       "      <td>3:30 PM</td>\n",
       "      <td>368.0</td>\n",
       "      <td>14.7%</td>\n",
       "      <td>46.7%</td>\n",
       "      <td>30.2%</td>\n",
       "      <td>3.5%</td>\n",
       "      <td>357.0</td>\n",
       "      <td>381.0</td>\n",
       "      <td>376.0</td>\n",
       "      <td>38.5%</td>\n",
       "    </tr>\n",
       "    <tr>\n",
       "      <th>432</th>\n",
       "      <td>27Q262</td>\n",
       "      <td>Channel View School for Research</td>\n",
       "      <td>Queens</td>\n",
       "      <td>Q410</td>\n",
       "      <td>100-00 Beach Channel Drive</td>\n",
       "      <td>Rockaway Park</td>\n",
       "      <td>NY</td>\n",
       "      <td>11694</td>\n",
       "      <td>40.58601</td>\n",
       "      <td>-73.82309</td>\n",
       "      <td>...</td>\n",
       "      <td>3:04 PM</td>\n",
       "      <td>683.0</td>\n",
       "      <td>10.7%</td>\n",
       "      <td>53.2%</td>\n",
       "      <td>29.1%</td>\n",
       "      <td>6.0%</td>\n",
       "      <td>427.0</td>\n",
       "      <td>430.0</td>\n",
       "      <td>423.0</td>\n",
       "      <td>76.6%</td>\n",
       "    </tr>\n",
       "    <tr>\n",
       "      <th>433</th>\n",
       "      <td>27Q351</td>\n",
       "      <td>Rockaway Collegiate High School</td>\n",
       "      <td>Queens</td>\n",
       "      <td>Q410</td>\n",
       "      <td>100-00 Beach Channel Drive</td>\n",
       "      <td>Rockaway Park</td>\n",
       "      <td>NY</td>\n",
       "      <td>11694</td>\n",
       "      <td>40.58601</td>\n",
       "      <td>-73.82309</td>\n",
       "      <td>...</td>\n",
       "      <td>4:20 PM</td>\n",
       "      <td>397.0</td>\n",
       "      <td>3.8%</td>\n",
       "      <td>52.6%</td>\n",
       "      <td>33.5%</td>\n",
       "      <td>5.0%</td>\n",
       "      <td>399.0</td>\n",
       "      <td>403.0</td>\n",
       "      <td>405.0</td>\n",
       "      <td>46.5%</td>\n",
       "    </tr>\n",
       "    <tr>\n",
       "      <th>434</th>\n",
       "      <td>27Q323</td>\n",
       "      <td>Scholars' Academy</td>\n",
       "      <td>Queens</td>\n",
       "      <td>Q180</td>\n",
       "      <td>320 Beach 104th Street</td>\n",
       "      <td>Rockaway Park</td>\n",
       "      <td>NY</td>\n",
       "      <td>11694</td>\n",
       "      <td>40.58413</td>\n",
       "      <td>-73.82568</td>\n",
       "      <td>...</td>\n",
       "      <td>3:00 PM</td>\n",
       "      <td>1302.0</td>\n",
       "      <td>34.7%</td>\n",
       "      <td>22.7%</td>\n",
       "      <td>19.6%</td>\n",
       "      <td>21.4%</td>\n",
       "      <td>588.0</td>\n",
       "      <td>560.0</td>\n",
       "      <td>568.0</td>\n",
       "      <td>99.2%</td>\n",
       "    </tr>\n",
       "  </tbody>\n",
       "</table>\n",
       "<p>374 rows × 22 columns</p>\n",
       "</div>"
      ],
      "text/plain": [
       "    School ID                                        School Name    Borough  \\\n",
       "2      01M539  New Explorations into Science, Technology and ...  Manhattan   \n",
       "3      02M294                               Essex Street Academy  Manhattan   \n",
       "4      02M308                       Lower Manhattan Arts Academy  Manhattan   \n",
       "5      02M545    High School for Dual Language and Asian Studies  Manhattan   \n",
       "6      01M292      Henry Street School for International Studies  Manhattan   \n",
       "..        ...                                                ...        ...   \n",
       "430    27Q302  Queens High School for Information, Research, ...     Queens   \n",
       "431    27Q324  Rockaway Park High School for Environmental Su...     Queens   \n",
       "432    27Q262                   Channel View School for Research     Queens   \n",
       "433    27Q351                    Rockaway Collegiate High School     Queens   \n",
       "434    27Q323                                  Scholars' Academy     Queens   \n",
       "\n",
       "    Building Code              Street Address           City State  Zip Code  \\\n",
       "2            M022         111 Columbia Street      Manhattan    NY     10002   \n",
       "3            M445            350 Grand Street      Manhattan    NY     10002   \n",
       "4            M445            350 Grand Street      Manhattan    NY     10002   \n",
       "5            M445            350 Grand Street      Manhattan    NY     10002   \n",
       "6            M056            220 Henry Street      Manhattan    NY     10002   \n",
       "..            ...                         ...            ...   ...       ...   \n",
       "430          Q465        8-21 Bay 25th Street   Far Rockaway    NY     11691   \n",
       "431          Q410  100-00 Beach Channel Drive  Rockaway Park    NY     11694   \n",
       "432          Q410  100-00 Beach Channel Drive  Rockaway Park    NY     11694   \n",
       "433          Q410  100-00 Beach Channel Drive  Rockaway Park    NY     11694   \n",
       "434          Q180      320 Beach 104th Street  Rockaway Park    NY     11694   \n",
       "\n",
       "     Latitude  Longitude  ... End Time Student Enrollment Percent White  \\\n",
       "2    40.71873  -73.97943  ...  4:00 PM             1735.0         28.6%   \n",
       "3    40.71687  -73.98953  ...  2:45 PM              358.0         11.7%   \n",
       "4    40.71687  -73.98953  ...  3:00 PM              383.0          3.1%   \n",
       "5    40.71687  -73.98953  ...  3:35 PM              416.0          1.7%   \n",
       "6    40.71376  -73.98526  ...  3:30 PM              255.0          3.9%   \n",
       "..        ...        ...  ...      ...                ...           ...   \n",
       "430  40.60199  -73.76283  ...  4:10 PM              381.0          2.1%   \n",
       "431  40.58601  -73.82309  ...  3:30 PM              368.0         14.7%   \n",
       "432  40.58601  -73.82309  ...  3:04 PM              683.0         10.7%   \n",
       "433  40.58601  -73.82309  ...  4:20 PM              397.0          3.8%   \n",
       "434  40.58413  -73.82568  ...  3:00 PM             1302.0         34.7%   \n",
       "\n",
       "     Percent Black Percent Hispanic Percent Asian Average Score (SAT Math)  \\\n",
       "2            13.3%            18.0%         38.5%                    657.0   \n",
       "3            38.5%            41.3%          5.9%                    395.0   \n",
       "4            28.2%            56.9%          8.6%                    418.0   \n",
       "5             3.1%             5.5%         88.9%                    613.0   \n",
       "6            24.4%            56.6%         13.2%                    410.0   \n",
       "..             ...              ...           ...                      ...   \n",
       "430          49.1%            43.6%          4.2%                    372.0   \n",
       "431          46.7%            30.2%          3.5%                    357.0   \n",
       "432          53.2%            29.1%          6.0%                    427.0   \n",
       "433          52.6%            33.5%          5.0%                    399.0   \n",
       "434          22.7%            19.6%         21.4%                    588.0   \n",
       "\n",
       "    Average Score (SAT Reading)  Average Score (SAT Writing)  Percent Tested  \n",
       "2                         601.0                        601.0           91.0%  \n",
       "3                         411.0                        387.0           78.9%  \n",
       "4                         428.0                        415.0           65.1%  \n",
       "5                         453.0                        463.0           95.9%  \n",
       "6                         406.0                        381.0           59.7%  \n",
       "..                          ...                          ...             ...  \n",
       "430                       362.0                        352.0           44.6%  \n",
       "431                       381.0                        376.0           38.5%  \n",
       "432                       430.0                        423.0           76.6%  \n",
       "433                       403.0                        405.0           46.5%  \n",
       "434                       560.0                        568.0           99.2%  \n",
       "\n",
       "[374 rows x 22 columns]"
      ]
     },
     "execution_count": 4,
     "metadata": {},
     "output_type": "execute_result"
    }
   ],
   "source": [
    "nyc_hs_new = nyc_hs.dropna()\n",
    "nyc_hs_new = pd.DataFrame(nyc_hs_new)\n",
    "nyc_hs_new"
   ]
  },
  {
   "cell_type": "code",
   "execution_count": 5,
   "metadata": {},
   "outputs": [
    {
     "name": "stdout",
     "output_type": "stream",
     "text": [
      "Wall time: 14.4 ms\n"
     ]
    }
   ],
   "source": [
    "%%time\n",
    "white = nyc_hs_new[\"Percent_White_str\"] = nyc_hs_new[\"Percent White\"].str.replace(\"%\", \"\")\n",
    "\n",
    "black = nyc_hs_new[\"Percent_Black_str\"] = nyc_hs_new[\"Percent Black\"].str.replace(\"%\", \"\")\n",
    "\n",
    "hispanic = nyc_hs_new[\"Percent_Hispanic_str\"] = nyc_hs_new[\"Percent Hispanic\"].str.replace(\"%\", \"\")\n",
    "\n",
    "asian = nyc_hs_new[\"Percent_Asian_str\"] = nyc_hs_new[\"Percent Asian\"].str.replace(\"%\", \"\")"
   ]
  },
  {
   "cell_type": "code",
   "execution_count": 6,
   "metadata": {},
   "outputs": [],
   "source": [
    "nyc_hs_new[\"WhitePercent_numeric\"] = pd.to_numeric(nyc_hs_new[\"Percent_White_str\"])\n",
    "white_tonumeric = nyc_hs_new[\"WhitePercent_numeric\"] = pd.to_numeric(nyc_hs_new[\"Percent_White_str\"])\n",
    "\n",
    "nyc_hs_new[\"BlackPercent_numeric\"] = pd.to_numeric(nyc_hs_new[\"Percent_Black_str\"])\n",
    "white_tonumeric = nyc_hs_new[\"BlackPercent_numeric\"] = pd.to_numeric(nyc_hs_new[\"Percent_Black_str\"])\n",
    "\n",
    "nyc_hs_new[\"HispanicPercent_numeric\"] = pd.to_numeric(nyc_hs_new[\"Percent_Hispanic_str\"])\n",
    "white_tonumeric = nyc_hs_new[\"HispanicPercent_numeric\"] = pd.to_numeric(nyc_hs_new[\"Percent_Hispanic_str\"])\n",
    "\n",
    "nyc_hs_new[\"AsianPercent_numeric\"] = pd.to_numeric(nyc_hs_new[\"Percent_Asian_str\"])\n",
    "white_tonumeric = nyc_hs_new[\"AsianPercent_numeric\"] = pd.to_numeric(nyc_hs_new[\"Percent_Asian_str\"])"
   ]
  },
  {
   "cell_type": "markdown",
   "metadata": {},
   "source": [
    "# Summary of Key Variables"
   ]
  },
  {
   "cell_type": "code",
   "execution_count": 8,
   "metadata": {},
   "outputs": [
    {
     "data": {
      "text/html": [
       "<div>\n",
       "<style scoped>\n",
       "    .dataframe tbody tr th:only-of-type {\n",
       "        vertical-align: middle;\n",
       "    }\n",
       "\n",
       "    .dataframe tbody tr th {\n",
       "        vertical-align: top;\n",
       "    }\n",
       "\n",
       "    .dataframe thead th {\n",
       "        text-align: right;\n",
       "    }\n",
       "</style>\n",
       "<table border=\"1\" class=\"dataframe\">\n",
       "  <thead>\n",
       "    <tr style=\"text-align: right;\">\n",
       "      <th></th>\n",
       "      <th>Average Score (SAT Math)</th>\n",
       "      <th>Average Score (SAT Reading)</th>\n",
       "      <th>Average Score (SAT Writing)</th>\n",
       "    </tr>\n",
       "  </thead>\n",
       "  <tbody>\n",
       "    <tr>\n",
       "      <th>count</th>\n",
       "      <td>374.000000</td>\n",
       "      <td>374.000000</td>\n",
       "      <td>374.000000</td>\n",
       "    </tr>\n",
       "    <tr>\n",
       "      <th>mean</th>\n",
       "      <td>432.719251</td>\n",
       "      <td>424.342246</td>\n",
       "      <td>418.286096</td>\n",
       "    </tr>\n",
       "    <tr>\n",
       "      <th>std</th>\n",
       "      <td>71.916833</td>\n",
       "      <td>61.884529</td>\n",
       "      <td>64.548388</td>\n",
       "    </tr>\n",
       "    <tr>\n",
       "      <th>min</th>\n",
       "      <td>317.000000</td>\n",
       "      <td>302.000000</td>\n",
       "      <td>284.000000</td>\n",
       "    </tr>\n",
       "    <tr>\n",
       "      <th>25%</th>\n",
       "      <td>386.000000</td>\n",
       "      <td>386.000000</td>\n",
       "      <td>382.000000</td>\n",
       "    </tr>\n",
       "    <tr>\n",
       "      <th>50%</th>\n",
       "      <td>414.000000</td>\n",
       "      <td>412.500000</td>\n",
       "      <td>402.500000</td>\n",
       "    </tr>\n",
       "    <tr>\n",
       "      <th>75%</th>\n",
       "      <td>457.250000</td>\n",
       "      <td>444.500000</td>\n",
       "      <td>436.000000</td>\n",
       "    </tr>\n",
       "    <tr>\n",
       "      <th>max</th>\n",
       "      <td>754.000000</td>\n",
       "      <td>697.000000</td>\n",
       "      <td>693.000000</td>\n",
       "    </tr>\n",
       "  </tbody>\n",
       "</table>\n",
       "</div>"
      ],
      "text/plain": [
       "       Average Score (SAT Math)  Average Score (SAT Reading)  \\\n",
       "count                374.000000                   374.000000   \n",
       "mean                 432.719251                   424.342246   \n",
       "std                   71.916833                    61.884529   \n",
       "min                  317.000000                   302.000000   \n",
       "25%                  386.000000                   386.000000   \n",
       "50%                  414.000000                   412.500000   \n",
       "75%                  457.250000                   444.500000   \n",
       "max                  754.000000                   697.000000   \n",
       "\n",
       "       Average Score (SAT Writing)  \n",
       "count                   374.000000  \n",
       "mean                    418.286096  \n",
       "std                      64.548388  \n",
       "min                     284.000000  \n",
       "25%                     382.000000  \n",
       "50%                     402.500000  \n",
       "75%                     436.000000  \n",
       "max                     693.000000  "
      ]
     },
     "execution_count": 8,
     "metadata": {},
     "output_type": "execute_result"
    }
   ],
   "source": [
    "Avg_SAT_score = nyc_hs_new[[\"Average Score (SAT Math)\", \"Average Score (SAT Reading)\", \"Average Score (SAT Writing)\"]]\n",
    "Avg_SAT_score = pd.DataFrame(Avg_SAT_score)\n",
    "Avg_SAT_score\n",
    "Avg_SAT_score.describe()"
   ]
  },
  {
   "cell_type": "markdown",
   "metadata": {},
   "source": [
    "These are the summary statistics for Average SAT scores. Some interesting points to note are that the maximum score for Math is higher than Reading and Writing. However, the mean scores are almost in the same of 415 to 435. The minimum for Writing is the lowest. Generally, students do better in Math and worse in Writing. For the purpose of this report we will focus on Average SAT Math and Writing Score and see if there is any correlation between different ethnicities and the average scores."
   ]
  },
  {
   "cell_type": "code",
   "execution_count": 10,
   "metadata": {
    "scrolled": true
   },
   "outputs": [
    {
     "data": {
      "text/html": [
       "<div>\n",
       "<style scoped>\n",
       "    .dataframe tbody tr th:only-of-type {\n",
       "        vertical-align: middle;\n",
       "    }\n",
       "\n",
       "    .dataframe tbody tr th {\n",
       "        vertical-align: top;\n",
       "    }\n",
       "\n",
       "    .dataframe thead th {\n",
       "        text-align: right;\n",
       "    }\n",
       "</style>\n",
       "<table border=\"1\" class=\"dataframe\">\n",
       "  <thead>\n",
       "    <tr style=\"text-align: right;\">\n",
       "      <th></th>\n",
       "      <th>WhitePercent_numeric</th>\n",
       "      <th>BlackPercent_numeric</th>\n",
       "      <th>HispanicPercent_numeric</th>\n",
       "      <th>AsianPercent_numeric</th>\n",
       "    </tr>\n",
       "  </thead>\n",
       "  <tbody>\n",
       "    <tr>\n",
       "      <th>count</th>\n",
       "      <td>374.000000</td>\n",
       "      <td>374.000000</td>\n",
       "      <td>374.000000</td>\n",
       "      <td>374.000000</td>\n",
       "    </tr>\n",
       "    <tr>\n",
       "      <th>mean</th>\n",
       "      <td>8.524599</td>\n",
       "      <td>35.387166</td>\n",
       "      <td>43.929679</td>\n",
       "      <td>10.412567</td>\n",
       "    </tr>\n",
       "    <tr>\n",
       "      <th>std</th>\n",
       "      <td>13.359205</td>\n",
       "      <td>25.367159</td>\n",
       "      <td>24.495584</td>\n",
       "      <td>14.400556</td>\n",
       "    </tr>\n",
       "    <tr>\n",
       "      <th>min</th>\n",
       "      <td>0.000000</td>\n",
       "      <td>0.000000</td>\n",
       "      <td>2.600000</td>\n",
       "      <td>0.000000</td>\n",
       "    </tr>\n",
       "    <tr>\n",
       "      <th>25%</th>\n",
       "      <td>1.300000</td>\n",
       "      <td>16.400000</td>\n",
       "      <td>20.825000</td>\n",
       "      <td>1.600000</td>\n",
       "    </tr>\n",
       "    <tr>\n",
       "      <th>50%</th>\n",
       "      <td>2.600000</td>\n",
       "      <td>28.750000</td>\n",
       "      <td>45.300000</td>\n",
       "      <td>4.200000</td>\n",
       "    </tr>\n",
       "    <tr>\n",
       "      <th>75%</th>\n",
       "      <td>9.375000</td>\n",
       "      <td>50.100000</td>\n",
       "      <td>63.375000</td>\n",
       "      <td>11.150000</td>\n",
       "    </tr>\n",
       "    <tr>\n",
       "      <th>max</th>\n",
       "      <td>79.900000</td>\n",
       "      <td>91.200000</td>\n",
       "      <td>100.000000</td>\n",
       "      <td>88.900000</td>\n",
       "    </tr>\n",
       "  </tbody>\n",
       "</table>\n",
       "</div>"
      ],
      "text/plain": [
       "       WhitePercent_numeric  BlackPercent_numeric  HispanicPercent_numeric  \\\n",
       "count            374.000000            374.000000               374.000000   \n",
       "mean               8.524599             35.387166                43.929679   \n",
       "std               13.359205             25.367159                24.495584   \n",
       "min                0.000000              0.000000                 2.600000   \n",
       "25%                1.300000             16.400000                20.825000   \n",
       "50%                2.600000             28.750000                45.300000   \n",
       "75%                9.375000             50.100000                63.375000   \n",
       "max               79.900000             91.200000               100.000000   \n",
       "\n",
       "       AsianPercent_numeric  \n",
       "count            374.000000  \n",
       "mean              10.412567  \n",
       "std               14.400556  \n",
       "min                0.000000  \n",
       "25%                1.600000  \n",
       "50%                4.200000  \n",
       "75%               11.150000  \n",
       "max               88.900000  "
      ]
     },
     "execution_count": 10,
     "metadata": {},
     "output_type": "execute_result"
    }
   ],
   "source": [
    "ethnicities = nyc_hs_new[[\"WhitePercent_numeric\", \"BlackPercent_numeric\", \"HispanicPercent_numeric\",\"AsianPercent_numeric\" ]]\n",
    "ethnicities = pd.DataFrame(ethnicities)\n",
    "ethnicities\n",
    "ethnicities.describe()"
   ]
  },
  {
   "cell_type": "markdown",
   "metadata": {},
   "source": [
    "These are the summary statistics for various ethnicities in the NYC public schools. Some interesting points to note are that some schools 0% of White, Black and Asian ethnicities and some schools have 100% Hispanic ethnicity. The mean varies a lot, schools have around 8.5% White and the mean for Hispanic ethnicity is 44%."
   ]
  },
  {
   "cell_type": "markdown",
   "metadata": {},
   "source": [
    "# Visual Summary of the Data"
   ]
  },
  {
   "cell_type": "code",
   "execution_count": 12,
   "metadata": {},
   "outputs": [
    {
     "data": {
      "text/plain": [
       "(array([ 2.,  2.,  1.,  6.,  8., 21., 26., 32., 39., 28., 22., 28., 19.,\n",
       "        18., 18., 10.,  8.,  8., 10.,  9., 10.,  5.,  7.,  5.,  1.,  1.,\n",
       "         1.,  3.,  3.,  1.,  3.,  4.,  0.,  1.,  0.,  2.,  2.,  1.,  1.,\n",
       "         0.,  1.,  3.,  0.,  1.,  0.,  2.,  0.,  0.,  0.,  1.]),\n",
       " array([317.  , 325.74, 334.48, 343.22, 351.96, 360.7 , 369.44, 378.18,\n",
       "        386.92, 395.66, 404.4 , 413.14, 421.88, 430.62, 439.36, 448.1 ,\n",
       "        456.84, 465.58, 474.32, 483.06, 491.8 , 500.54, 509.28, 518.02,\n",
       "        526.76, 535.5 , 544.24, 552.98, 561.72, 570.46, 579.2 , 587.94,\n",
       "        596.68, 605.42, 614.16, 622.9 , 631.64, 640.38, 649.12, 657.86,\n",
       "        666.6 , 675.34, 684.08, 692.82, 701.56, 710.3 , 719.04, 727.78,\n",
       "        736.52, 745.26, 754.  ]),\n",
       " <a list of 50 Patch objects>)"
      ]
     },
     "execution_count": 12,
     "metadata": {},
     "output_type": "execute_result"
    },
    {
     "data": {
      "image/png": "[encoded data removed]",
      "text/plain": [
       "<Figure size 432x288 with 1 Axes>"
      ]
     },
     "metadata": {
      "needs_background": "light"
     },
     "output_type": "display_data"
    }
   ],
   "source": [
    "plt.hist(nyc_hs_new[\"Average Score (SAT Math)\"], bins = 50)"
   ]
  },
  {
   "cell_type": "code",
   "execution_count": 14,
   "metadata": {},
   "outputs": [
    {
     "data": {
      "text/plain": [
       "(array([ 1.,  2.,  3.,  3.,  5.,  4.,  7.,  8., 17., 18., 31., 31., 22.,\n",
       "        35., 30., 31., 21., 11., 15., 13.,  7.,  7.,  8.,  6.,  3.,  3.,\n",
       "         3.,  1.,  3.,  2.,  1.,  3.,  3.,  0.,  0.,  1.,  2.,  2.,  2.,\n",
       "         1.,  2.,  0.,  2.,  0.,  0.,  2.,  1.,  0.,  0.,  1.]),\n",
       " array([302. , 309.9, 317.8, 325.7, 333.6, 341.5, 349.4, 357.3, 365.2,\n",
       "        373.1, 381. , 388.9, 396.8, 404.7, 412.6, 420.5, 428.4, 436.3,\n",
       "        444.2, 452.1, 460. , 467.9, 475.8, 483.7, 491.6, 499.5, 507.4,\n",
       "        515.3, 523.2, 531.1, 539. , 546.9, 554.8, 562.7, 570.6, 578.5,\n",
       "        586.4, 594.3, 602.2, 610.1, 618. , 625.9, 633.8, 641.7, 649.6,\n",
       "        657.5, 665.4, 673.3, 681.2, 689.1, 697. ]),\n",
       " <a list of 50 Patch objects>)"
      ]
     },
     "execution_count": 14,
     "metadata": {},
     "output_type": "execute_result"
    },
    {
     "data": {
      "image/png": "[encoded data removed]",
      "text/plain": [
       "<Figure size 432x288 with 1 Axes>"
      ]
     },
     "metadata": {
      "needs_background": "light"
     },
     "output_type": "display_data"
    }
   ],
   "source": [
    "plt.hist(nyc_hs_new[\"Average Score (SAT Reading)\"], bins = 50)"
   ]
  },
  {
   "cell_type": "code",
   "execution_count": 16,
   "metadata": {},
   "outputs": [
    {
     "data": {
      "text/plain": [
       "(array([ 2.,  1.,  0.,  3.,  5.,  2.,  2.,  5., 12., 17., 16., 31., 34.,\n",
       "        39., 32., 25., 23., 23., 11., 13., 11.,  8.,  7.,  6.,  8.,  3.,\n",
       "         2.,  2.,  3.,  2.,  2.,  4.,  1.,  1.,  2.,  0.,  0.,  1.,  4.,\n",
       "         2.,  0.,  1.,  2.,  1.,  0.,  0.,  2.,  2.,  0.,  1.]),\n",
       " array([284.  , 292.18, 300.36, 308.54, 316.72, 324.9 , 333.08, 341.26,\n",
       "        349.44, 357.62, 365.8 , 373.98, 382.16, 390.34, 398.52, 406.7 ,\n",
       "        414.88, 423.06, 431.24, 439.42, 447.6 , 455.78, 463.96, 472.14,\n",
       "        480.32, 488.5 , 496.68, 504.86, 513.04, 521.22, 529.4 , 537.58,\n",
       "        545.76, 553.94, 562.12, 570.3 , 578.48, 586.66, 594.84, 603.02,\n",
       "        611.2 , 619.38, 627.56, 635.74, 643.92, 652.1 , 660.28, 668.46,\n",
       "        676.64, 684.82, 693.  ]),\n",
       " <a list of 50 Patch objects>)"
      ]
     },
     "execution_count": 16,
     "metadata": {},
     "output_type": "execute_result"
    },
    {
     "data": {
      "image/png": "[encoded data removed]",
      "text/plain": [
       "<Figure size 432x288 with 1 Axes>"
      ]
     },
     "metadata": {
      "needs_background": "light"
     },
     "output_type": "display_data"
    }
   ],
   "source": [
    "plt.hist(nyc_hs_new[\"Average Score (SAT Writing)\"], bins = 50)"
   ]
  },
  {
   "cell_type": "code",
   "execution_count": 17,
   "metadata": {},
   "outputs": [
    {
     "data": {
      "text/plain": [
       "(array([120.,  88.,  40.,  14.,  13.,   8.,  10.,   4.,   8.,   6.,   2.,\n",
       "          7.,   7.,   4.,   4.,   0.,   3.,   4.,   0.,   2.,   1.,   4.,\n",
       "          3.,   0.,   1.,   0.,   2.,   2.,   3.,   1.,   0.,   3.,   3.,\n",
       "          1.,   1.,   1.,   1.,   0.,   2.,   0.,   0.,   0.,   0.,   0.,\n",
       "          0.,   0.,   0.,   0.,   0.,   1.]),\n",
       " array([ 0.   ,  1.598,  3.196,  4.794,  6.392,  7.99 ,  9.588, 11.186,\n",
       "        12.784, 14.382, 15.98 , 17.578, 19.176, 20.774, 22.372, 23.97 ,\n",
       "        25.568, 27.166, 28.764, 30.362, 31.96 , 33.558, 35.156, 36.754,\n",
       "        38.352, 39.95 , 41.548, 43.146, 44.744, 46.342, 47.94 , 49.538,\n",
       "        51.136, 52.734, 54.332, 55.93 , 57.528, 59.126, 60.724, 62.322,\n",
       "        63.92 , 65.518, 67.116, 68.714, 70.312, 71.91 , 73.508, 75.106,\n",
       "        76.704, 78.302, 79.9  ]),\n",
       " <a list of 50 Patch objects>)"
      ]
     },
     "execution_count": 17,
     "metadata": {},
     "output_type": "execute_result"
    },
    {
     "data": {
      "image/png": "[encoded data removed]",
      "text/plain": [
       "<Figure size 432x288 with 1 Axes>"
      ]
     },
     "metadata": {
      "needs_background": "light"
     },
     "output_type": "display_data"
    }
   ],
   "source": [
    "plt.hist(nyc_hs_new[\"WhitePercent_numeric\"], bins = 50)"
   ]
  },
  {
   "cell_type": "code",
   "execution_count": 18,
   "metadata": {},
   "outputs": [
    {
     "data": {
      "text/plain": [
       "(array([10.,  7., 15.,  8., 16.,  7., 10., 13.,  9., 10.,  8., 13., 16.,\n",
       "        16., 12., 21., 18., 10., 10., 10.,  8.,  9.,  3.,  5.,  5.,  6.,\n",
       "         4.,  3.,  8.,  3.,  2.,  1.,  2.,  3.,  4.,  0.,  2.,  3.,  6.,\n",
       "         6.,  5.,  4.,  2.,  4.,  7.,  7.,  7.,  6.,  3.,  7.]),\n",
       " array([ 0.   ,  1.824,  3.648,  5.472,  7.296,  9.12 , 10.944, 12.768,\n",
       "        14.592, 16.416, 18.24 , 20.064, 21.888, 23.712, 25.536, 27.36 ,\n",
       "        29.184, 31.008, 32.832, 34.656, 36.48 , 38.304, 40.128, 41.952,\n",
       "        43.776, 45.6  , 47.424, 49.248, 51.072, 52.896, 54.72 , 56.544,\n",
       "        58.368, 60.192, 62.016, 63.84 , 65.664, 67.488, 69.312, 71.136,\n",
       "        72.96 , 74.784, 76.608, 78.432, 80.256, 82.08 , 83.904, 85.728,\n",
       "        87.552, 89.376, 91.2  ]),\n",
       " <a list of 50 Patch objects>)"
      ]
     },
     "execution_count": 18,
     "metadata": {},
     "output_type": "execute_result"
    },
    {
     "data": {
      "image/png": "[encoded data removed]",
      "text/plain": [
       "<Figure size 432x288 with 1 Axes>"
      ]
     },
     "metadata": {
      "needs_background": "light"
     },
     "output_type": "display_data"
    }
   ],
   "source": [
    "plt.hist(nyc_hs_new[\"BlackPercent_numeric\"], bins = 50)"
   ]
  },
  {
   "cell_type": "code",
   "execution_count": 19,
   "metadata": {},
   "outputs": [
    {
     "data": {
      "text/plain": [
       "(array([ 2.,  8.,  6., 16., 13., 10., 10.,  8., 16., 11., 13.,  6., 10.,\n",
       "         8.,  3.,  3.,  5.,  5., 10., 11.,  7.,  9.,  5.,  9.,  6.,  6.,\n",
       "        12., 14., 10., 16., 10., 11.,  9., 13., 13., 10.,  5.,  3.,  9.,\n",
       "         3.,  2.,  3.,  2.,  0.,  1.,  3.,  1.,  1.,  0.,  7.]),\n",
       " array([  2.6  ,   4.548,   6.496,   8.444,  10.392,  12.34 ,  14.288,\n",
       "         16.236,  18.184,  20.132,  22.08 ,  24.028,  25.976,  27.924,\n",
       "         29.872,  31.82 ,  33.768,  35.716,  37.664,  39.612,  41.56 ,\n",
       "         43.508,  45.456,  47.404,  49.352,  51.3  ,  53.248,  55.196,\n",
       "         57.144,  59.092,  61.04 ,  62.988,  64.936,  66.884,  68.832,\n",
       "         70.78 ,  72.728,  74.676,  76.624,  78.572,  80.52 ,  82.468,\n",
       "         84.416,  86.364,  88.312,  90.26 ,  92.208,  94.156,  96.104,\n",
       "         98.052, 100.   ]),\n",
       " <a list of 50 Patch objects>)"
      ]
     },
     "execution_count": 19,
     "metadata": {},
     "output_type": "execute_result"
    },
    {
     "data": {
      "image/png": "[encoded data removed]",
      "text/plain": [
       "<Figure size 432x288 with 1 Axes>"
      ]
     },
     "metadata": {
      "needs_background": "light"
     },
     "output_type": "display_data"
    }
   ],
   "source": [
    "plt.hist(nyc_hs_new[\"HispanicPercent_numeric\"], bins = 50)"
   ]
  },
  {
   "cell_type": "code",
   "execution_count": 23,
   "metadata": {
    "scrolled": true
   },
   "outputs": [
    {
     "data": {
      "text/plain": [
       "(array([102.,  66.,  39.,  35.,  22.,  15.,   4.,   5.,   7.,   4.,   7.,\n",
       "          3.,   6.,   3.,   2.,   5.,   7.,   6.,   1.,   4.,   4.,   5.,\n",
       "          5.,   3.,   2.,   0.,   1.,   1.,   0.,   0.,   2.,   1.,   1.,\n",
       "          0.,   2.,   1.,   0.,   0.,   0.,   0.,   0.,   1.,   1.,   0.,\n",
       "          0.,   0.,   0.,   0.,   0.,   1.]),\n",
       " array([ 0.   ,  1.778,  3.556,  5.334,  7.112,  8.89 , 10.668, 12.446,\n",
       "        14.224, 16.002, 17.78 , 19.558, 21.336, 23.114, 24.892, 26.67 ,\n",
       "        28.448, 30.226, 32.004, 33.782, 35.56 , 37.338, 39.116, 40.894,\n",
       "        42.672, 44.45 , 46.228, 48.006, 49.784, 51.562, 53.34 , 55.118,\n",
       "        56.896, 58.674, 60.452, 62.23 , 64.008, 65.786, 67.564, 69.342,\n",
       "        71.12 , 72.898, 74.676, 76.454, 78.232, 80.01 , 81.788, 83.566,\n",
       "        85.344, 87.122, 88.9  ]),\n",
       " <a list of 50 Patch objects>)"
      ]
     },
     "execution_count": 23,
     "metadata": {},
     "output_type": "execute_result"
    },
    {
     "data": {
      "image/png": "[encoded data removed]",
      "text/plain": [
       "<Figure size 432x288 with 1 Axes>"
      ]
     },
     "metadata": {
      "needs_background": "light"
     },
     "output_type": "display_data"
    }
   ],
   "source": [
    "plt.hist(nyc_hs_new[\"AsianPercent_numeric\"], bins = 50)"
   ]
  },
  {
   "cell_type": "code",
   "execution_count": 26,
   "metadata": {},
   "outputs": [],
   "source": [
    "w = nyc_hs_new[\"WhitePercent_numeric\"]\n",
    "b = nyc_hs_new[\"BlackPercent_numeric\"]\n",
    "h = nyc_hs_new[\"HispanicPercent_numeric\"]\n",
    "a = nyc_hs_new[\"AsianPercent_numeric\"]"
   ]
  },
  {
   "cell_type": "code",
   "execution_count": 27,
   "metadata": {},
   "outputs": [],
   "source": [
    "y1 = nyc_hs_new[\"Average Score (SAT Math)\"]\n",
    "y2 = nyc_hs_new[\"Average Score (SAT Reading)\"]\n",
    "y3 = nyc_hs_new[\"Average Score (SAT Writing)\"]"
   ]
  },
  {
   "cell_type": "code",
   "execution_count": 28,
   "metadata": {},
   "outputs": [
    {
     "data": {
      "text/plain": [
       "Text(0.5, 1.0, 'Scatter Plot of Percent of White and Math Avg SAT Score')"
      ]
     },
     "execution_count": 28,
     "metadata": {},
     "output_type": "execute_result"
    },
    {
     "data": {
      "image/png": "[encoded data removed]",
      "text/plain": [
       "<Figure size 432x288 with 1 Axes>"
      ]
     },
     "metadata": {
      "needs_background": "light"
     },
     "output_type": "display_data"
    }
   ],
   "source": [
    "plt.scatter(w, y1)\n",
    "plt.title(\"Scatter Plot of Percent of White and Math Avg SAT Score\")\n",
    "#plt.xlabel()\n",
    "#plt.ylabel()"
   ]
  },
  {
   "cell_type": "code",
   "execution_count": 27,
   "metadata": {},
   "outputs": [
    {
     "data": {
      "text/plain": [
       "<matplotlib.collections.PathCollection at 0xcb4aa18>"
      ]
     },
     "execution_count": 27,
     "metadata": {},
     "output_type": "execute_result"
    },
    {
     "data": {
      "image/png": "[encoded data removed]",
      "text/plain": [
       "<Figure size 432x288 with 1 Axes>"
      ]
     },
     "metadata": {
      "needs_background": "light"
     },
     "output_type": "display_data"
    }
   ],
   "source": [
    "plt.scatter(w, y2)"
   ]
  },
  {
   "cell_type": "code",
   "execution_count": 28,
   "metadata": {},
   "outputs": [
    {
     "data": {
      "text/plain": [
       "<matplotlib.collections.PathCollection at 0xcb80be0>"
      ]
     },
     "execution_count": 28,
     "metadata": {},
     "output_type": "execute_result"
    },
    {
     "data": {
      "image/png": "[encoded data removed]",
      "text/plain": [
       "<Figure size 432x288 with 1 Axes>"
      ]
     },
     "metadata": {
      "needs_background": "light"
     },
     "output_type": "display_data"
    }
   ],
   "source": [
    "plt.scatter(b, y1)"
   ]
  },
  {
   "cell_type": "code",
   "execution_count": 29,
   "metadata": {},
   "outputs": [
    {
     "data": {
      "text/plain": [
       "<matplotlib.collections.PathCollection at 0xcac3640>"
      ]
     },
     "execution_count": 29,
     "metadata": {},
     "output_type": "execute_result"
    },
    {
     "data": {
      "image/png": "[encoded data removed]",
      "text/plain": [
       "<Figure size 432x288 with 1 Axes>"
      ]
     },
     "metadata": {
      "needs_background": "light"
     },
     "output_type": "display_data"
    }
   ],
   "source": [
    "plt.scatter(b, y2)"
   ]
  },
  {
   "cell_type": "code",
   "execution_count": 30,
   "metadata": {},
   "outputs": [
    {
     "data": {
      "text/plain": [
       "<matplotlib.collections.PathCollection at 0xcbe52f8>"
      ]
     },
     "execution_count": 30,
     "metadata": {},
     "output_type": "execute_result"
    },
    {
     "data": {
      "image/png": "[encoded data removed]",
      "text/plain": [
       "<Figure size 432x288 with 1 Axes>"
      ]
     },
     "metadata": {
      "needs_background": "light"
     },
     "output_type": "display_data"
    }
   ],
   "source": [
    "plt.scatter(h, y1)"
   ]
  },
  {
   "cell_type": "code",
   "execution_count": 31,
   "metadata": {},
   "outputs": [
    {
     "data": {
      "text/plain": [
       "<matplotlib.collections.PathCollection at 0xcba38f8>"
      ]
     },
     "execution_count": 31,
     "metadata": {},
     "output_type": "execute_result"
    },
    {
     "data": {
      "image/png": "[encoded data removed]",
      "text/plain": [
       "<Figure size 432x288 with 1 Axes>"
      ]
     },
     "metadata": {
      "needs_background": "light"
     },
     "output_type": "display_data"
    }
   ],
   "source": [
    "plt.scatter(h, y2)"
   ]
  },
  {
   "cell_type": "code",
   "execution_count": 32,
   "metadata": {},
   "outputs": [
    {
     "data": {
      "text/plain": [
       "<matplotlib.collections.PathCollection at 0xcc44cd0>"
      ]
     },
     "execution_count": 32,
     "metadata": {},
     "output_type": "execute_result"
    },
    {
     "data": {
      "image/png": "[encoded data removed]",
      "text/plain": [
       "<Figure size 432x288 with 1 Axes>"
      ]
     },
     "metadata": {
      "needs_background": "light"
     },
     "output_type": "display_data"
    }
   ],
   "source": [
    "plt.scatter(a, y1)"
   ]
  },
  {
   "cell_type": "code",
   "execution_count": 33,
   "metadata": {},
   "outputs": [
    {
     "data": {
      "text/plain": [
       "<matplotlib.collections.PathCollection at 0xcc749a0>"
      ]
     },
     "execution_count": 33,
     "metadata": {},
     "output_type": "execute_result"
    },
    {
     "data": {
      "image/png": "[encoded data removed]",
      "text/plain": [
       "<Figure size 432x288 with 1 Axes>"
      ]
     },
     "metadata": {
      "needs_background": "light"
     },
     "output_type": "display_data"
    }
   ],
   "source": [
    "plt.scatter(a, y2)"
   ]
  },
  {
   "cell_type": "code",
   "execution_count": 29,
   "metadata": {},
   "outputs": [
    {
     "data": {
      "text/plain": [
       "<matplotlib.collections.PathCollection at 0xcce2328>"
      ]
     },
     "execution_count": 29,
     "metadata": {},
     "output_type": "execute_result"
    },
    {
     "data": {
      "image/png": "[encoded data removed]",
      "text/plain": [
       "<Figure size 432x288 with 1 Axes>"
      ]
     },
     "metadata": {
      "needs_background": "light"
     },
     "output_type": "display_data"
    }
   ],
   "source": [
    "plt.scatter(w, y3)"
   ]
  },
  {
   "cell_type": "code",
   "execution_count": 30,
   "metadata": {},
   "outputs": [
    {
     "data": {
      "text/plain": [
       "<matplotlib.collections.PathCollection at 0xc937028>"
      ]
     },
     "execution_count": 30,
     "metadata": {},
     "output_type": "execute_result"
    },
    {
     "data": {
      "image/png": "[encoded data removed]",
      "text/plain": [
       "<Figure size 432x288 with 1 Axes>"
      ]
     },
     "metadata": {
      "needs_background": "light"
     },
     "output_type": "display_data"
    }
   ],
   "source": [
    "plt.scatter(b, y3)"
   ]
  },
  {
   "cell_type": "code",
   "execution_count": 31,
   "metadata": {},
   "outputs": [
    {
     "data": {
      "text/plain": [
       "<matplotlib.collections.PathCollection at 0xc92ee80>"
      ]
     },
     "execution_count": 31,
     "metadata": {},
     "output_type": "execute_result"
    },
    {
     "data": {
      "image/png": "[encoded data removed]",
      "text/plain": [
       "<Figure size 432x288 with 1 Axes>"
      ]
     },
     "metadata": {
      "needs_background": "light"
     },
     "output_type": "display_data"
    }
   ],
   "source": [
    "plt.scatter(h, y3)"
   ]
  },
  {
   "cell_type": "code",
   "execution_count": 32,
   "metadata": {},
   "outputs": [
    {
     "data": {
      "text/plain": [
       "<matplotlib.collections.PathCollection at 0xc535da8>"
      ]
     },
     "execution_count": 32,
     "metadata": {},
     "output_type": "execute_result"
    },
    {
     "data": {
      "image/png": "[encoded data removed]",
      "text/plain": [
       "<Figure size 432x288 with 1 Axes>"
      ]
     },
     "metadata": {
      "needs_background": "light"
     },
     "output_type": "display_data"
    }
   ],
   "source": [
    "plt.scatter(a, y3)"
   ]
  },
  {
   "cell_type": "code",
   "execution_count": null,
   "metadata": {},
   "outputs": [],
   "source": []
  }
 ],
 "metadata": {
  "kernelspec": {
   "display_name": "Python 3",
   "language": "python",
   "name": "python3"
  },
  "language_info": {
   "codemirror_mode": {
    "name": "ipython",
    "version": 3
   },
   "file_extension": ".py",
   "mimetype": "text/x-python",
   "name": "python",
   "nbconvert_exporter": "python",
   "pygments_lexer": "ipython3",
   "version": "3.8.3"
  }
 },
 "nbformat": 4,
 "nbformat_minor": 4
}
